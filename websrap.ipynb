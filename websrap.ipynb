from selenium import webdriver
from selenium.webdriver.common.by import By
from selenium.webdriver.support.ui import WebDriverWait
from selenium.webdriver.support import expected_conditions as EC
import random

chrome_options = webdriver.ChromeOptions()
chrome_options.add_argument(f'user-agent={random.choice(user_agents)}')

# Initialize the WebDriver with ChromeOptions
driver = webdriver.Chrome(options=chrome_options)

url = 'https://www.einforma.co/nit-empresas'  # Replace with the URL of the webpage you want to interact with

for prueba_txt in rem[280:]:
    driver.get(url)
    try:
        input_element = driver.find_element(By.ID, 'search')
        input_element.send_keys(prueba_txt)

        submit_button = WebDriverWait(driver, 4).until(
            EC.element_to_be_clickable((By.XPATH, "//input[@type='submit' and @class='searchbox-submit borderAzul']"))
        )

        # Click the submit button
        submit_button.click()

        h3_element = WebDriverWait(driver, 4).until(
            EC.element_to_be_clickable((By.CSS_SELECTOR, "h3.texto.fs1em.colorBlue.underline"))
        )
        driver.execute_script("arguments[0].scrollIntoView(true);", h3_element)

        h3_element.click()

        loaded_html = driver.page_source
        dict_aux[prueba_txt] = loaded_html
    except Exception as e: 
        p=0
